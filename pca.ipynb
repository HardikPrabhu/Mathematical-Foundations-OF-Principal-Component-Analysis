{
  "nbformat": 4,
  "nbformat_minor": 0,
  "metadata": {
    "colab": {
      "name": "pca.ipynb",
      "provenance": [],
      "collapsed_sections": [],
      "authorship_tag": "ABX9TyPtZqGLddtMWfhZFTWouUu+",
      "include_colab_link": true
    },
    "kernelspec": {
      "name": "python3",
      "display_name": "Python 3"
    },
    "language_info": {
      "name": "python"
    }
  },
  "cells": [
    {
      "cell_type": "markdown",
      "metadata": {
        "id": "view-in-github",
        "colab_type": "text"
      },
      "source": [
        "<a href=\"https://colab.research.google.com/github/HardikPrabhu/Mathematical-Foundations-OF-Principal-Component-Analysis/blob/main/pca.ipynb\" target=\"_parent\"><img src=\"https://colab.research.google.com/assets/colab-badge.svg\" alt=\"Open In Colab\"/></a>"
      ]
    },
    {
      "cell_type": "markdown",
      "metadata": {
        "id": "ErGRJzSLxlrv"
      },
      "source": [
        "# Python Implementation of PCA"
      ]
    },
    {
      "cell_type": "markdown",
      "metadata": {
        "id": "QACowshftPEJ"
      },
      "source": [
        "Let matrix X denote the entire data (mxn matrix). The rows of X are the n-dimenisonal data points, which are denoted as xi. No. of rows = no. of data points. "
      ]
    },
    {
      "cell_type": "code",
      "metadata": {
        "id": "y2hG1rTEO4Rw"
      },
      "source": [
        "import numpy as np\n",
        "import matplotlib.pyplot as plt"
      ],
      "execution_count": 9,
      "outputs": []
    },
    {
      "cell_type": "markdown",
      "metadata": {
        "id": "ysyOPRx4t2F8"
      },
      "source": [
        "Let us look at a visual demonstration for 2 dimensional dataset."
      ]
    },
    {
      "cell_type": "code",
      "metadata": {
        "colab": {
          "base_uri": "https://localhost:8080/"
        },
        "id": "24U96SftZb4Y",
        "outputId": "9b616451-8cbc-4f66-fb7d-fe8ff3c45ae7"
      },
      "source": [
        "#lets assume data has a 2-variate  gaussian distribution\n",
        "mu = np.array([1,1])\n",
        "cov = np.array([[0.5,0.2],[0.2,0.5]]) #symmetric\n",
        "A = np.random.multivariate_normal(mu, cov, 100)\n",
        "print(A)\n"
      ],
      "execution_count": 106,
      "outputs": [
        {
          "output_type": "stream",
          "text": [
            "[[ 0.44436782  1.00491693]\n",
            " [ 0.85496772  1.12344906]\n",
            " [ 0.64188627  0.36028065]\n",
            " [ 0.00801485  1.38466254]\n",
            " [ 0.21989988  1.44225468]\n",
            " [ 0.5884716   0.86490574]\n",
            " [ 0.32629436  0.46932127]\n",
            " [ 0.16595418  0.47067827]\n",
            " [ 1.2432536   2.29157682]\n",
            " [ 0.81682857  2.09366241]\n",
            " [ 0.65183849  0.68928513]\n",
            " [ 0.325112    0.96402138]\n",
            " [ 0.55916003  0.70166366]\n",
            " [ 1.25249197  0.75539268]\n",
            " [ 1.06428605  0.40236289]\n",
            " [ 0.86214374  2.03955341]\n",
            " [ 0.84213935  1.38188761]\n",
            " [ 1.36991776  0.40627417]\n",
            " [ 1.5709865   1.3987613 ]\n",
            " [ 1.04699283  1.41229022]\n",
            " [ 1.9756712   1.17740742]\n",
            " [-0.05601191  0.28806904]\n",
            " [ 1.00674402  0.97633828]\n",
            " [ 1.56010382  0.82695126]\n",
            " [ 1.24420946  1.60457236]\n",
            " [ 0.78953075  1.9901669 ]\n",
            " [ 2.41666546  0.34835287]\n",
            " [ 1.20618424  1.38807382]\n",
            " [ 0.54149456  0.73971254]\n",
            " [ 1.12465959  0.58715865]\n",
            " [ 0.811506    1.6735376 ]\n",
            " [ 0.58666107  1.37950612]\n",
            " [ 1.02307472  0.83317542]\n",
            " [ 1.36536218  0.91574678]\n",
            " [ 1.43809183  0.41609373]\n",
            " [ 0.3119231  -0.32119047]\n",
            " [ 0.30307202 -0.10229675]\n",
            " [-0.10977197 -0.18333554]\n",
            " [ 0.96706243  1.33012706]\n",
            " [ 1.55311286  0.78520977]\n",
            " [ 1.26186783  1.38425962]\n",
            " [ 0.85580901  0.73015334]\n",
            " [ 1.5723673   1.60514491]\n",
            " [-0.02599332 -0.35231982]\n",
            " [ 2.14918099  1.54186221]\n",
            " [ 0.48045975  0.89018998]\n",
            " [ 1.03149727  1.31063716]\n",
            " [ 1.81602362  0.59298262]\n",
            " [ 1.11962021  1.20153173]\n",
            " [ 0.19282676  1.09840674]\n",
            " [ 1.07785048  0.77833888]\n",
            " [ 1.12657066 -0.03923436]\n",
            " [-0.10121457  0.69813187]\n",
            " [ 0.24459848 -0.17165633]\n",
            " [ 0.97868092  0.62014144]\n",
            " [ 0.28012231  1.30753149]\n",
            " [ 1.65810585  1.3336412 ]\n",
            " [ 0.79834685  1.17267236]\n",
            " [ 0.67913438  1.07440646]\n",
            " [ 1.68010866  0.55396541]\n",
            " [ 0.42811044  0.82335819]\n",
            " [ 1.56641985  2.25192628]\n",
            " [ 1.22895491  0.04094618]\n",
            " [ 1.45082346  1.99407677]\n",
            " [ 1.46621264  1.46041141]\n",
            " [ 0.43905854  1.24138771]\n",
            " [ 0.68919466  0.98736794]\n",
            " [ 0.3876105  -0.06429831]\n",
            " [ 0.63512092  0.68524319]\n",
            " [ 1.28854726  0.6985934 ]\n",
            " [ 1.85397258  1.00996028]\n",
            " [-0.31889057 -0.66306686]\n",
            " [ 0.84416916  1.62749229]\n",
            " [ 1.47883601  0.69729836]\n",
            " [ 1.29537887  1.2532546 ]\n",
            " [ 0.62791483  0.96456173]\n",
            " [ 2.69943774  1.67320748]\n",
            " [ 2.14301517  3.14930654]\n",
            " [ 1.80642586  0.95553433]\n",
            " [ 1.26020112  0.47955609]\n",
            " [-0.34309643  0.19010619]\n",
            " [ 1.03435554 -0.10949222]\n",
            " [ 1.24444454  1.16010566]\n",
            " [ 0.55859646  1.66111192]\n",
            " [ 2.17817821  1.52668383]\n",
            " [ 0.54016013  0.18371232]\n",
            " [ 0.98332465  1.21047088]\n",
            " [ 1.71461672  1.07515348]\n",
            " [ 1.56797494  0.95064234]\n",
            " [-0.63729663 -0.23809452]\n",
            " [-0.28279963 -0.14958765]\n",
            " [ 0.73727762  1.29184584]\n",
            " [ 1.70672531  1.74534015]\n",
            " [ 0.39734713  1.73896333]\n",
            " [ 2.3501056   1.71248315]\n",
            " [ 1.21598575  0.9873881 ]\n",
            " [ 0.90641473  0.39112398]\n",
            " [ 1.04854793  1.27495976]\n",
            " [ 1.55414828  1.52685516]\n",
            " [ 0.63946979  0.68757238]]\n"
          ],
          "name": "stdout"
        }
      ]
    },
    {
      "cell_type": "code",
      "metadata": {
        "colab": {
          "base_uri": "https://localhost:8080/",
          "height": 283
        },
        "id": "AKRnm7UqvUpn",
        "outputId": "fb1a6518-c0f3-4194-bd42-005d583e72c6"
      },
      "source": [
        "X=A[:,0]\n",
        "Y=A[:,1]\n",
        "plt.figure(0)\n",
        "plt.plot(X,Y,'bo')"
      ],
      "execution_count": 107,
      "outputs": [
        {
          "output_type": "execute_result",
          "data": {
            "text/plain": [
              "[<matplotlib.lines.Line2D at 0x7ff52ffb0cd0>]"
            ]
          },
          "metadata": {
            "tags": []
          },
          "execution_count": 107
        },
        {
          "output_type": "display_data",
          "data": {
            "image/png": "[encoded data removed]",
            "text/plain": [
              "<Figure size 432x288 with 1 Axes>"
            ]
          },
          "metadata": {
            "tags": [],
            "needs_background": "light"
          }
        }
      ]
    },
    {
      "cell_type": "markdown",
      "metadata": {
        "id": "C3NrqjbfxcVT"
      },
      "source": [
        "Now we centre the data by removing the mean.\n"
      ]
    },
    {
      "cell_type": "code",
      "metadata": {
        "id": "ABB-clpLvUmO"
      },
      "source": [
        "mean=A.mean(0)\n",
        "for i in range(len(A)):\n",
        "  A[i]=A[i]-mean "
      ],
      "execution_count": 108,
      "outputs": []
    },
    {
      "cell_type": "markdown",
      "metadata": {
        "id": "7O3FXr_71Wsk"
      },
      "source": [
        "Now that we have centered the mean, the sample covariance matrix is given by:\n",
        "$C =\n",
        "\\frac{1}{m - 1}\n",
        "X^{\\top}X$"
      ]
    },
    {
      "cell_type": "code",
      "metadata": {
        "colab": {
          "base_uri": "https://localhost:8080/"
        },
        "id": "ACwzAhfH2bsH",
        "outputId": "d1c0e4a8-da72-4dc2-e087-607b4ee880f6"
      },
      "source": [
        "C=1/99*A.transpose().dot(A)\n",
        "print(C)"
      ],
      "execution_count": 191,
      "outputs": [
        {
          "output_type": "stream",
          "text": [
            "[[0.42689624 0.19671816]\n",
            " [0.19671816 0.43887189]]\n"
          ],
          "name": "stdout"
        }
      ]
    },
    {
      "cell_type": "markdown",
      "metadata": {
        "id": "z9c3Lcdy-MRU"
      },
      "source": [
        "Lets do singular value decomposition to get orthomnormal eigenvectors (principal components)"
      ]
    },
    {
      "cell_type": "code",
      "metadata": {
        "id": "FJSOzrhbHl7q"
      },
      "source": [
        "U, D, VT = np.linalg.svd(C)"
      ],
      "execution_count": 192,
      "outputs": []
    },
    {
      "cell_type": "code",
      "metadata": {
        "colab": {
          "base_uri": "https://localhost:8080/"
        },
        "id": "6K-7a9sR9gTl",
        "outputId": "c70b2f95-39a5-49ab-e915-3b386ce8e203"
      },
      "source": [
        "#columns of U are over principal components\n",
        "P1=U[:,0]\n",
        "P2=U[:,1]\n",
        "print(D)\n"
      ],
      "execution_count": 193,
      "outputs": [
        {
          "output_type": "stream",
          "text": [
            "[0.62969334 0.23607479]\n"
          ],
          "name": "stdout"
        }
      ]
    },
    {
      "cell_type": "markdown",
      "metadata": {
        "id": "QawhUVDOOtVw"
      },
      "source": [
        "Projection along the first component:\n",
        "$z=  p_{1}^{\\top}x p_{1}$, which is the projection along direction p1.\n",
        "Since $X$ has ith entry $x_{i}^{\\top}$.\n",
        "The projection for each data point is given as \n",
        "$XP_{1}P_{1}^\\top$"
      ]
    },
    {
      "cell_type": "code",
      "metadata": {
        "id": "bJv-nmpwOAf2"
      },
      "source": [
        "Z1=A.dot(P1.reshape((-1, 1)))\n",
        "Z1=Z1.dot(np.array([P1]))\n",
        "\n",
        "Z2=A.dot(P2.reshape((-1, 1)))\n",
        "Z2=Z2.dot(np.array([P2]))\n"
      ],
      "execution_count": 194,
      "outputs": []
    },
    {
      "cell_type": "code",
      "metadata": {
        "colab": {
          "base_uri": "https://localhost:8080/",
          "height": 287
        },
        "id": "47sxSVCYOsQe",
        "outputId": "90b3fc81-fc85-43f7-fc34-bd7fd9a11da3"
      },
      "source": [
        "X=A[:,0]\n",
        "Y=A[:,1]\n",
        "plt.figure(1)\n",
        "plt.plot(X,Y,'go')\n",
        "X=Z1[:,0]\n",
        "Y=Z1[:,1]\n",
        "plt.plot(X,Y,'b^')\n",
        "X=Z2[:,0]\n",
        "Y=Z2[:,1]\n",
        "plt.plot(X,Y,'r^')\n",
        "\n",
        "plt.xlim(-3, 3)\n",
        "plt.ylim(-3,3)\n",
        "\n",
        "  \n",
        "#Blue: Projection along PC1\n",
        "#Red: Projection along PC2"
      ],
      "execution_count": 195,
      "outputs": [
        {
          "output_type": "execute_result",
          "data": {
            "text/plain": [
              "(-3.0, 3.0)"
            ]
          },
          "metadata": {
            "tags": []
          },
          "execution_count": 195
        },
        {
          "output_type": "display_data",
          "data": {
            "image/png": "[encoded data removed]",
            "text/plain": [
              "<Figure size 432x288 with 1 Axes>"
            ]
          },
          "metadata": {
            "tags": [],
            "needs_background": "light"
          }
        }
      ]
    },
    {
      "cell_type": "markdown",
      "metadata": {
        "id": "X3fwB2hjb7hb"
      },
      "source": [
        ""
      ]
    },
    {
      "cell_type": "code",
      "metadata": {
        "colab": {
          "base_uri": "https://localhost:8080/"
        },
        "id": "DqNu3Ud-hP77",
        "outputId": "c5a78d2c-adc4-4dea-e519-57f0c9f628f2"
      },
      "source": [
        "A.shape[1]"
      ],
      "execution_count": 190,
      "outputs": [
        {
          "output_type": "execute_result",
          "data": {
            "text/plain": [
              "2"
            ]
          },
          "metadata": {
            "tags": []
          },
          "execution_count": 190
        }
      ]
    },
    {
      "cell_type": "code",
      "metadata": {
        "id": "-sCxJNYsbOen"
      },
      "source": [
        "def PCA(A,k): #FEED THE DATA MATRIX, k=NO. OF COMPONENTS <no. of col in A  \n",
        "   if k>A.shape[1]:\n",
        "     return \"Not Possible\"\n",
        "   else:\n",
        "     m=A.shape[0]  #remove mean\n",
        "     mean=A.mean(0)\n",
        "     C=1/(m-1)*A.transpose().dot(A)\n",
        "     #lets take SVD of sample cov matrix C\n",
        "     U, D, VT = np.linalg.svd(C)\n",
        "     P=[] #list containing components\n",
        "     for i in range(k):\n",
        "       P.append(U[:,i]) #first K principle components\n",
        "     #projection on first k components\n",
        "     print(P)\n",
        "     F=P[0]\n",
        "     S=A.dot(F.reshape((-1, 1)))\n",
        "     S=S.dot(np.array([F])) \n",
        "     \n",
        "     for i in range(1,k):\n",
        "       F=P[i]\n",
        "       print(F)\n",
        "       Z=A.dot(F.reshape((-1, 1)))\n",
        "       Z=Z.dot(np.array([F])) \n",
        "       S=S+Z\n",
        "     return (S,P)   #S is the projected dataset on the set P of Principle components\n",
        "           \n",
        "\n",
        "\n",
        "\n",
        "       \n",
        "         \n",
        "\n",
        "\n",
        "\n",
        "\n"
      ],
      "execution_count": 212,
      "outputs": []
    },
    {
      "cell_type": "code",
      "metadata": {
        "colab": {
          "base_uri": "https://localhost:8080/"
        },
        "id": "gosm7qsUpSjx",
        "outputId": "1959585c-ad29-4e16-afe4-973cfff7d81b"
      },
      "source": [
        "PCA(A,1)"
      ],
      "execution_count": 216,
      "outputs": [
        {
          "output_type": "stream",
          "text": [
            "[array([-0.69626701, -0.71778287])]\n"
          ],
          "name": "stdout"
        },
        {
          "output_type": "execute_result",
          "data": {
            "text/plain": [
              "(array([[-0.22699875, -0.23401341],\n",
              "        [ 0.03129368,  0.03226071],\n",
              "        [-0.45341315, -0.46742441],\n",
              "        [-0.24875242, -0.2564393 ],\n",
              "        [-0.11725041, -0.12087365],\n",
              "        [-0.22711219, -0.23413035],\n",
              "        [-0.55191318, -0.56896826],\n",
              "        [-0.62896594, -0.64840209],\n",
              "        [ 0.80332342,  0.82814751],\n",
              "        [ 0.49768639,  0.51306577],\n",
              "        [-0.28416235, -0.29294347],\n",
              "        [-0.30525082, -0.3146836 ],\n",
              "        [-0.32290533, -0.33288367],\n",
              "        [ 0.04006557,  0.04130366],\n",
              "        [-0.22760754, -0.234641  ],\n",
              "        [ 0.49261266,  0.50783525],\n",
              "        [ 0.1542341 ,  0.1590002 ],\n",
              "        [-0.0774863 , -0.07988076],\n",
              "        [ 0.51600321,  0.5319486 ],\n",
              "        [ 0.26873882,  0.27704332],\n",
              "        [ 0.60156369,  0.62015305],\n",
              "        [-0.82783473, -0.85341627],\n",
              "        [ 0.03135163,  0.03232045],\n",
              "        [ 0.22495475,  0.23190624],\n",
              "        [ 0.46044359,  0.47467211],\n",
              "        [ 0.43272894,  0.44610102],\n",
              "        [ 0.40101692,  0.41340905],\n",
              "        [ 0.33381027,  0.34412559],\n",
              "        [-0.31245371, -0.32210907],\n",
              "        [-0.10598408, -0.10925917],\n",
              "        [ 0.28514091,  0.29395226],\n",
              "        [ 0.02919117,  0.03009322],\n",
              "        [-0.03227974, -0.03327724],\n",
              "        [ 0.17492359,  0.18032904],\n",
              "        [-0.03952883, -0.04075034],\n",
              "        [-0.95395308, -0.98343189],\n",
              "        [-0.84884778, -0.87507866],\n",
              "        [-1.08949012, -1.12315727],\n",
              "        [ 0.18892698,  0.19476515],\n",
              "        [ 0.20070453,  0.20690665],\n",
              "        [ 0.35889878,  0.36998938],\n",
              "        [-0.16485529, -0.16994961],\n",
              "        [ 0.61981663,  0.63897005],\n",
              "        [-1.13332829, -1.16835011],\n",
              "        [ 0.86782214,  0.89463936],\n",
              "        [-0.26683874, -0.27508452],\n",
              "        [ 0.21042377,  0.21692623],\n",
              "        [ 0.23209137,  0.23926339],\n",
              "        [ 0.19861723,  0.20475485],\n",
              "        [-0.30221951, -0.31155862],\n",
              "        [-0.0331307 , -0.03415449],\n",
              "        [-0.41810913, -0.43102943],\n",
              "        [-0.64481193, -0.66473774],\n",
              "        [-0.91185877, -0.94003679],\n",
              "        [-0.16026899, -0.16522158],\n",
              "        [-0.15538572, -0.16018741],\n",
              "        [ 0.52569262,  0.54193744],\n",
              "        [ 0.02844484,  0.02932383],\n",
              "        [-0.07845812, -0.08088261],\n",
              "        [ 0.14670189,  0.15123524],\n",
              "        [-0.32561747, -0.33567962],\n",
              "        [ 0.94017436,  0.96922738],\n",
              "        [-0.32840279, -0.33855101],\n",
              "        [ 0.75526958,  0.77860872],\n",
              "        [ 0.49602091,  0.51134882],\n",
              "        [-0.11139197, -0.11483417],\n",
              "        [-0.11708013, -0.12069811],\n",
              "        [-0.78887414, -0.81325172],\n",
              "        [-0.29428686, -0.30338084],\n",
              "        [ 0.02915824,  0.03005928],\n",
              "        [ 0.45888087,  0.47306109],\n",
              "        [-1.43062288, -1.47483162],\n",
              "        [ 0.27796361,  0.28655317],\n",
              "        [ 0.12076067,  0.12449239],\n",
              "        [ 0.30967234,  0.31924175],\n",
              "        [-0.15818567, -0.16307388],\n",
              "        [ 1.20022211,  1.23731106],\n",
              "        [ 1.66818312,  1.71973289],\n",
              "        [ 0.40863043,  0.42125782],\n",
              "        [-0.09405158, -0.09695794],\n",
              "        [-1.01596853, -1.04736373],\n",
              "        [-0.49792656, -0.51331336],\n",
              "        [ 0.23842709,  0.2457949 ],\n",
              "        [ 0.15632351,  0.16115417],\n",
              "        [ 0.87429396,  0.90131117],\n",
              "        [-0.59097204, -0.6092341 ],\n",
              "        [ 0.13701031,  0.14124417],\n",
              "        [ 0.42390437,  0.43700375],\n",
              "        [ 0.29058748,  0.29956714],\n",
              "        [-1.37259443, -1.41500999],\n",
              "        [-1.15650568, -1.19224372],\n",
              "        [ 0.05839837,  0.06020298],\n",
              "        [ 0.75501692,  0.77834826],\n",
              "        [ 0.11705949,  0.12067683],\n",
              "        [ 1.05049891,  1.08296116],\n",
              "        [ 0.13831181,  0.14258589],\n",
              "        [-0.30975847, -0.31933055],\n",
              "        [ 0.20085928,  0.20706618],\n",
              "        [ 0.57185753,  0.58952892],\n",
              "        [-0.29101452, -0.30000738]]), [array([-0.69626701, -0.71778287])])"
            ]
          },
          "metadata": {
            "tags": []
          },
          "execution_count": 216
        }
      ]
    },
    {
      "cell_type": "code",
      "metadata": {
        "id": "BBqQMep5s8xs"
      },
      "source": [
        ""
      ],
      "execution_count": null,
      "outputs": []
    }
  ]
}